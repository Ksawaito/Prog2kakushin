{
  "nbformat": 4,
  "nbformat_minor": 0,
  "metadata": {
    "colab": {
      "provenance": [],
      "authorship_tag": "ABX9TyOtYwV39UpXbvLSaEwhnQTq",
      "include_colab_link": true
    },
    "kernelspec": {
      "name": "python3",
      "display_name": "Python 3"
    },
    "language_info": {
      "name": "python"
    }
  },
  "cells": [
    {
      "cell_type": "markdown",
      "metadata": {
        "id": "view-in-github",
        "colab_type": "text"
      },
      "source": [
        "<a href=\"https://colab.research.google.com/github/Ksawaito/Prog2kakushin/blob/main/work2.ipynb\" target=\"_parent\"><img src=\"https://colab.research.google.com/assets/colab-badge.svg\" alt=\"Open In Colab\"/></a>"
      ]
    },
    {
      "cell_type": "markdown",
      "source": [
        "グラフを使って＼(^o^)／ｵﾜﾀの絵を描く"
      ],
      "metadata": {
        "id": "16uhOfFkNsVq"
      }
    },
    {
      "cell_type": "code",
      "source": [
        "import numpy as np\n",
        "import matplotlib.pyplot as plt\n",
        "import math as m\n",
        "\n",
        "\n",
        "\n",
        "plt.ylim([-5, 5]) #y軸の表示範囲\n",
        "\n",
        "A1, A2, T = 1, 1, 10 #変数はカンマで区切り１行で書くことができます．\n",
        "t = np.linspace(0,20,100)  # 0～20を100個に分ける\n",
        "y1 = A1 * np.sin(2*np.pi*t/T) #正弦波，　振幅A1, 周期T\n",
        "y2 = A2 * np.cos(2*np.pi*t/T)\n",
        "\n",
        "t = np.linspace(0,5,100)\n",
        "A3, T = 1, 10\n",
        "y3 = A3 * np.sin(2*np.pi*t/T)\n",
        "y4 = 2 * np.sin(2*np.pi*t/15)\n",
        "\n",
        "x = np.arange(-1.25,1.25,0.01)  # -1.25～1,25までで0.01刻みで分割\n",
        "y = np.arange(-1.25,1.25,0.01)\n",
        "a = x**2+y**2\n",
        "\n",
        "z = np.arange(-2,1,0.02)\n",
        "d = 3/2*z\n",
        "\n",
        "plt.plot(y2, y1-0.5,'blue')\n",
        "\n",
        "plt.plot(t+2, y3,c='blue')\n",
        "plt.plot(t-7, y3,c='blue')\n",
        "\n",
        "plt.plot(a-11,x-0.75,c='blue')\n",
        "plt.plot(-a+11,x-0.75,c='blue')\n",
        "\n",
        "plt.plot(d+16,z,c='blue')\n",
        "plt.plot(-d-16,z,c='blue')\n",
        "\n",
        "plt.grid(True)"
      ],
      "metadata": {
        "colab": {
          "base_uri": "https://localhost:8080/",
          "height": 265
        },
        "id": "g6YuFl1N2RHV",
        "outputId": "2a380543-f6e2-42fc-efae-eb550b253a64"
      },
      "execution_count": 121,
      "outputs": [
        {
          "output_type": "display_data",
          "data": {
            "text/plain": [
              "<Figure size 432x288 with 1 Axes>"
            ],
            "image/png": "[encoded data removed]"
          },
          "metadata": {
            "needs_background": "light"
          }
        }
      ]
    },
    {
      "cell_type": "markdown",
      "source": [
        "＼(^o^)／ｵﾜﾀ"
      ],
      "metadata": {
        "id": "Gt04hhSkFZcm"
      }
    }
  ]
}