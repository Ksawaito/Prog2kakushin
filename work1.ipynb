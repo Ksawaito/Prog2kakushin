{
  "nbformat": 4,
  "nbformat_minor": 0,
  "metadata": {
    "colab": {
      "provenance": [],
      "authorship_tag": "ABX9TyMKuMKlOFfAzGCfHBDRIKcB",
      "include_colab_link": true
    },
    "kernelspec": {
      "name": "python3",
      "display_name": "Python 3"
    },
    "language_info": {
      "name": "python"
    }
  },
  "cells": [
    {
      "cell_type": "markdown",
      "metadata": {
        "id": "view-in-github",
        "colab_type": "text"
      },
      "source": [
        "<a href=\"https://colab.research.google.com/github/Ksawaito/Prog2kakushin/blob/main/work1.ipynb\" target=\"_parent\"><img src=\"https://colab.research.google.com/assets/colab-badge.svg\" alt=\"Open In Colab\"/></a>"
      ]
    },
    {
      "cell_type": "markdown",
      "source": [
        "サッカーのフランス代表のデータ分析"
      ],
      "metadata": {
        "id": "MYPfpZy-Kn1d"
      }
    },
    {
      "cell_type": "code",
      "source": [
        "pip install japanize_matplotlib  # 最初に実行してください"
      ],
      "metadata": {
        "colab": {
          "base_uri": "https://localhost:8080/"
        },
        "id": "0SxjH52g4cIH",
        "outputId": "acfde382-2757-41a5-f2ba-48b6e2e37d59"
      },
      "execution_count": 1,
      "outputs": [
        {
          "output_type": "stream",
          "name": "stdout",
          "text": [
            "Looking in indexes: https://pypi.org/simple, https://us-python.pkg.dev/colab-wheels/public/simple/\n",
            "Collecting japanize_matplotlib\n",
            "  Downloading japanize-matplotlib-1.1.3.tar.gz (4.1 MB)\n",
            "\u001b[K     |████████████████████████████████| 4.1 MB 5.9 MB/s \n",
            "\u001b[?25hRequirement already satisfied: matplotlib in /usr/local/lib/python3.8/dist-packages (from japanize_matplotlib) (3.2.2)\n",
            "Requirement already satisfied: cycler>=0.10 in /usr/local/lib/python3.8/dist-packages (from matplotlib->japanize_matplotlib) (0.11.0)\n",
            "Requirement already satisfied: numpy>=1.11 in /usr/local/lib/python3.8/dist-packages (from matplotlib->japanize_matplotlib) (1.21.6)\n",
            "Requirement already satisfied: pyparsing!=2.0.4,!=2.1.2,!=2.1.6,>=2.0.1 in /usr/local/lib/python3.8/dist-packages (from matplotlib->japanize_matplotlib) (3.0.9)\n",
            "Requirement already satisfied: kiwisolver>=1.0.1 in /usr/local/lib/python3.8/dist-packages (from matplotlib->japanize_matplotlib) (1.4.4)\n",
            "Requirement already satisfied: python-dateutil>=2.1 in /usr/local/lib/python3.8/dist-packages (from matplotlib->japanize_matplotlib) (2.8.2)\n",
            "Requirement already satisfied: six>=1.5 in /usr/local/lib/python3.8/dist-packages (from python-dateutil>=2.1->matplotlib->japanize_matplotlib) (1.15.0)\n",
            "Building wheels for collected packages: japanize-matplotlib\n",
            "  Building wheel for japanize-matplotlib (setup.py) ... \u001b[?25l\u001b[?25hdone\n",
            "  Created wheel for japanize-matplotlib: filename=japanize_matplotlib-1.1.3-py3-none-any.whl size=4120275 sha256=f7474238b225aa3d508c10e47472dd809b4de515fa691c4b2fcbe1da0b70741d\n",
            "  Stored in directory: /root/.cache/pip/wheels/4f/ca/96/4cc5e192421cceb077fbf4ffec533382edd416fd3fa0af0bbd\n",
            "Successfully built japanize-matplotlib\n",
            "Installing collected packages: japanize-matplotlib\n",
            "Successfully installed japanize-matplotlib-1.1.3\n"
          ]
        }
      ]
    },
    {
      "cell_type": "code",
      "source": [
        "import pandas as pd"
      ],
      "metadata": {
        "id": "e5yEEZDJeIZi"
      },
      "execution_count": 2,
      "outputs": []
    },
    {
      "cell_type": "code",
      "source": [
        "df = pd.DataFrame([ ['ウーゴ・ロリス', 35,188,82,6,570], ['アルフォンス・アレオラ',29,195,95,0,0], ['スティーヴ・マンダンダ',37,187,88,1,90], ['アクセル・ディサシ', 24,190,86,3,92]\n",
        "                   ,['ダヨ・ウパメカノ',24,186,90,5,480],['バンジャマン・パヴァール',26,186,76,1,89],['リュカ・エルナンデス',26,184,76,1,13],['テオ・エルナンデス',25,184,81,6,508]\n",
        "                   ,['イブラヒマ・コナテ',23,194,93,5,292],['ウィリアン・サリバ',21,192,85,1,27],['ラファエル・ヴァラン',29,191,79,6,521],['ジュール・クンデ',24,178,70,6,479]\n",
        "                   ,['ユスフ・フォファナ',23,178,74,6,225],['マテオ・ゲンドゥージ',23,184,68,1,79],['ジョルダン・ヴェレトゥ',29,177,67,1,63],['アドリアン・ラビオ',27,191,71,6,483] \n",
        "                   ,['エドゥアルド・カマヴィンガ',20,182,68,2,139],['オーレリアン・チュアメニ',20,187,81,7,623],['アントワーヌ・グリーズマン',31,173,72,7,537],['ウスマヌ・デンベレ',25,178,70,7,438] \n",
        "                   ,['オリヴィエ・ジルー',36,193,91,6,423],['キングスレイ・コマン',26,180,71,6,165],['マルクス・テュラム',25,192,88,5,147],['ランダル・コロ・ムアニ',24,187,73,3,180] \n",
        "                   ,['キリアン・エンバペ',24,178,78,7,597] ])\n",
        "\n",
        "df.columns = ['選手名', '年齢', '身長','体重','出場数','プレー時間'] \n",
        "\n",
        "# データの作成"
      ],
      "metadata": {
        "id": "tk6RT80UePrH"
      },
      "execution_count": 3,
      "outputs": []
    },
    {
      "cell_type": "code",
      "source": [
        "df"
      ],
      "metadata": {
        "colab": {
          "base_uri": "https://localhost:8080/",
          "height": 833
        },
        "id": "nX5C6SPgeP1x",
        "outputId": "49400c68-f583-4ef9-8d88-483a6828f76e"
      },
      "execution_count": 4,
      "outputs": [
        {
          "output_type": "execute_result",
          "data": {
            "text/plain": [
              "              選手名  年齢   身長  体重  出場数  プレー時間\n",
              "0         ウーゴ・ロリス  35  188  82    6    570\n",
              "1     アルフォンス・アレオラ  29  195  95    0      0\n",
              "2     スティーヴ・マンダンダ  37  187  88    1     90\n",
              "3       アクセル・ディサシ  24  190  86    3     92\n",
              "4        ダヨ・ウパメカノ  24  186  90    5    480\n",
              "5    バンジャマン・パヴァール  26  186  76    1     89\n",
              "6      リュカ・エルナンデス  26  184  76    1     13\n",
              "7       テオ・エルナンデス  25  184  81    6    508\n",
              "8       イブラヒマ・コナテ  23  194  93    5    292\n",
              "9       ウィリアン・サリバ  21  192  85    1     27\n",
              "10     ラファエル・ヴァラン  29  191  79    6    521\n",
              "11       ジュール・クンデ  24  178  70    6    479\n",
              "12      ユスフ・フォファナ  23  178  74    6    225\n",
              "13     マテオ・ゲンドゥージ  23  184  68    1     79\n",
              "14    ジョルダン・ヴェレトゥ  29  177  67    1     63\n",
              "15      アドリアン・ラビオ  27  191  71    6    483\n",
              "16  エドゥアルド・カマヴィンガ  20  182  68    2    139\n",
              "17   オーレリアン・チュアメニ  20  187  81    7    623\n",
              "18  アントワーヌ・グリーズマン  31  173  72    7    537\n",
              "19      ウスマヌ・デンベレ  25  178  70    7    438\n",
              "20      オリヴィエ・ジルー  36  193  91    6    423\n",
              "21     キングスレイ・コマン  26  180  71    6    165\n",
              "22      マルクス・テュラム  25  192  88    5    147\n",
              "23    ランダル・コロ・ムアニ  24  187  73    3    180\n",
              "24      キリアン・エンバペ  24  178  78    7    597"
            ],
            "text/html": [
              "\n",
              "  <div id=\"df-8f71ff8a-de07-4578-a756-77b78a5d5e71\">\n",
              "    <div class=\"colab-df-container\">\n",
              "      <div>\n",
              "<style scoped>\n",
              "    .dataframe tbody tr th:only-of-type {\n",
              "        vertical-align: middle;\n",
              "    }\n",
              "\n",
              "    .dataframe tbody tr th {\n",
              "        vertical-align: top;\n",
              "    }\n",
              "\n",
              "    .dataframe thead th {\n",
              "        text-align: right;\n",
              "    }\n",
              "</style>\n",
              "<table border=\"1\" class=\"dataframe\">\n",
              "  <thead>\n",
              "    <tr style=\"text-align: right;\">\n",
              "      <th></th>\n",
              "      <th>選手名</th>\n",
              "      <th>年齢</th>\n",
              "      <th>身長</th>\n",
              "      <th>体重</th>\n",
              "      <th>出場数</th>\n",
              "      <th>プレー時間</th>\n",
              "    </tr>\n",
              "  </thead>\n",
              "  <tbody>\n",
              "    <tr>\n",
              "      <th>0</th>\n",
              "      <td>ウーゴ・ロリス</td>\n",
              "      <td>35</td>\n",
              "      <td>188</td>\n",
              "      <td>82</td>\n",
              "      <td>6</td>\n",
              "      <td>570</td>\n",
              "    </tr>\n",
              "    <tr>\n",
              "      <th>1</th>\n",
              "      <td>アルフォンス・アレオラ</td>\n",
              "      <td>29</td>\n",
              "      <td>195</td>\n",
              "      <td>95</td>\n",
              "      <td>0</td>\n",
              "      <td>0</td>\n",
              "    </tr>\n",
              "    <tr>\n",
              "      <th>2</th>\n",
              "      <td>スティーヴ・マンダンダ</td>\n",
              "      <td>37</td>\n",
              "      <td>187</td>\n",
              "      <td>88</td>\n",
              "      <td>1</td>\n",
              "      <td>90</td>\n",
              "    </tr>\n",
              "    <tr>\n",
              "      <th>3</th>\n",
              "      <td>アクセル・ディサシ</td>\n",
              "      <td>24</td>\n",
              "      <td>190</td>\n",
              "      <td>86</td>\n",
              "      <td>3</td>\n",
              "      <td>92</td>\n",
              "    </tr>\n",
              "    <tr>\n",
              "      <th>4</th>\n",
              "      <td>ダヨ・ウパメカノ</td>\n",
              "      <td>24</td>\n",
              "      <td>186</td>\n",
              "      <td>90</td>\n",
              "      <td>5</td>\n",
              "      <td>480</td>\n",
              "    </tr>\n",
              "    <tr>\n",
              "      <th>5</th>\n",
              "      <td>バンジャマン・パヴァール</td>\n",
              "      <td>26</td>\n",
              "      <td>186</td>\n",
              "      <td>76</td>\n",
              "      <td>1</td>\n",
              "      <td>89</td>\n",
              "    </tr>\n",
              "    <tr>\n",
              "      <th>6</th>\n",
              "      <td>リュカ・エルナンデス</td>\n",
              "      <td>26</td>\n",
              "      <td>184</td>\n",
              "      <td>76</td>\n",
              "      <td>1</td>\n",
              "      <td>13</td>\n",
              "    </tr>\n",
              "    <tr>\n",
              "      <th>7</th>\n",
              "      <td>テオ・エルナンデス</td>\n",
              "      <td>25</td>\n",
              "      <td>184</td>\n",
              "      <td>81</td>\n",
              "      <td>6</td>\n",
              "      <td>508</td>\n",
              "    </tr>\n",
              "    <tr>\n",
              "      <th>8</th>\n",
              "      <td>イブラヒマ・コナテ</td>\n",
              "      <td>23</td>\n",
              "      <td>194</td>\n",
              "      <td>93</td>\n",
              "      <td>5</td>\n",
              "      <td>292</td>\n",
              "    </tr>\n",
              "    <tr>\n",
              "      <th>9</th>\n",
              "      <td>ウィリアン・サリバ</td>\n",
              "      <td>21</td>\n",
              "      <td>192</td>\n",
              "      <td>85</td>\n",
              "      <td>1</td>\n",
              "      <td>27</td>\n",
              "    </tr>\n",
              "    <tr>\n",
              "      <th>10</th>\n",
              "      <td>ラファエル・ヴァラン</td>\n",
              "      <td>29</td>\n",
              "      <td>191</td>\n",
              "      <td>79</td>\n",
              "      <td>6</td>\n",
              "      <td>521</td>\n",
              "    </tr>\n",
              "    <tr>\n",
              "      <th>11</th>\n",
              "      <td>ジュール・クンデ</td>\n",
              "      <td>24</td>\n",
              "      <td>178</td>\n",
              "      <td>70</td>\n",
              "      <td>6</td>\n",
              "      <td>479</td>\n",
              "    </tr>\n",
              "    <tr>\n",
              "      <th>12</th>\n",
              "      <td>ユスフ・フォファナ</td>\n",
              "      <td>23</td>\n",
              "      <td>178</td>\n",
              "      <td>74</td>\n",
              "      <td>6</td>\n",
              "      <td>225</td>\n",
              "    </tr>\n",
              "    <tr>\n",
              "      <th>13</th>\n",
              "      <td>マテオ・ゲンドゥージ</td>\n",
              "      <td>23</td>\n",
              "      <td>184</td>\n",
              "      <td>68</td>\n",
              "      <td>1</td>\n",
              "      <td>79</td>\n",
              "    </tr>\n",
              "    <tr>\n",
              "      <th>14</th>\n",
              "      <td>ジョルダン・ヴェレトゥ</td>\n",
              "      <td>29</td>\n",
              "      <td>177</td>\n",
              "      <td>67</td>\n",
              "      <td>1</td>\n",
              "      <td>63</td>\n",
              "    </tr>\n",
              "    <tr>\n",
              "      <th>15</th>\n",
              "      <td>アドリアン・ラビオ</td>\n",
              "      <td>27</td>\n",
              "      <td>191</td>\n",
              "      <td>71</td>\n",
              "      <td>6</td>\n",
              "      <td>483</td>\n",
              "    </tr>\n",
              "    <tr>\n",
              "      <th>16</th>\n",
              "      <td>エドゥアルド・カマヴィンガ</td>\n",
              "      <td>20</td>\n",
              "      <td>182</td>\n",
              "      <td>68</td>\n",
              "      <td>2</td>\n",
              "      <td>139</td>\n",
              "    </tr>\n",
              "    <tr>\n",
              "      <th>17</th>\n",
              "      <td>オーレリアン・チュアメニ</td>\n",
              "      <td>20</td>\n",
              "      <td>187</td>\n",
              "      <td>81</td>\n",
              "      <td>7</td>\n",
              "      <td>623</td>\n",
              "    </tr>\n",
              "    <tr>\n",
              "      <th>18</th>\n",
              "      <td>アントワーヌ・グリーズマン</td>\n",
              "      <td>31</td>\n",
              "      <td>173</td>\n",
              "      <td>72</td>\n",
              "      <td>7</td>\n",
              "      <td>537</td>\n",
              "    </tr>\n",
              "    <tr>\n",
              "      <th>19</th>\n",
              "      <td>ウスマヌ・デンベレ</td>\n",
              "      <td>25</td>\n",
              "      <td>178</td>\n",
              "      <td>70</td>\n",
              "      <td>7</td>\n",
              "      <td>438</td>\n",
              "    </tr>\n",
              "    <tr>\n",
              "      <th>20</th>\n",
              "      <td>オリヴィエ・ジルー</td>\n",
              "      <td>36</td>\n",
              "      <td>193</td>\n",
              "      <td>91</td>\n",
              "      <td>6</td>\n",
              "      <td>423</td>\n",
              "    </tr>\n",
              "    <tr>\n",
              "      <th>21</th>\n",
              "      <td>キングスレイ・コマン</td>\n",
              "      <td>26</td>\n",
              "      <td>180</td>\n",
              "      <td>71</td>\n",
              "      <td>6</td>\n",
              "      <td>165</td>\n",
              "    </tr>\n",
              "    <tr>\n",
              "      <th>22</th>\n",
              "      <td>マルクス・テュラム</td>\n",
              "      <td>25</td>\n",
              "      <td>192</td>\n",
              "      <td>88</td>\n",
              "      <td>5</td>\n",
              "      <td>147</td>\n",
              "    </tr>\n",
              "    <tr>\n",
              "      <th>23</th>\n",
              "      <td>ランダル・コロ・ムアニ</td>\n",
              "      <td>24</td>\n",
              "      <td>187</td>\n",
              "      <td>73</td>\n",
              "      <td>3</td>\n",
              "      <td>180</td>\n",
              "    </tr>\n",
              "    <tr>\n",
              "      <th>24</th>\n",
              "      <td>キリアン・エンバペ</td>\n",
              "      <td>24</td>\n",
              "      <td>178</td>\n",
              "      <td>78</td>\n",
              "      <td>7</td>\n",
              "      <td>597</td>\n",
              "    </tr>\n",
              "  </tbody>\n",
              "</table>\n",
              "</div>\n",
              "      <button class=\"colab-df-convert\" onclick=\"convertToInteractive('df-8f71ff8a-de07-4578-a756-77b78a5d5e71')\"\n",
              "              title=\"Convert this dataframe to an interactive table.\"\n",
              "              style=\"display:none;\">\n",
              "        \n",
              "  <svg xmlns=\"http://www.w3.org/2000/svg\" height=\"24px\"viewBox=\"0 0 24 24\"\n",
              "       width=\"24px\">\n",
              "    <path d=\"M0 0h24v24H0V0z\" fill=\"none\"/>\n",
              "    <path d=\"M18.56 5.44l.94 2.06.94-2.06 2.06-.94-2.06-.94-.94-2.06-.94 2.06-2.06.94zm-11 1L8.5 8.5l.94-2.06 2.06-.94-2.06-.94L8.5 2.5l-.94 2.06-2.06.94zm10 10l.94 2.06.94-2.06 2.06-.94-2.06-.94-.94-2.06-.94 2.06-2.06.94z\"/><path d=\"M17.41 7.96l-1.37-1.37c-.4-.4-.92-.59-1.43-.59-.52 0-1.04.2-1.43.59L10.3 9.45l-7.72 7.72c-.78.78-.78 2.05 0 2.83L4 21.41c.39.39.9.59 1.41.59.51 0 1.02-.2 1.41-.59l7.78-7.78 2.81-2.81c.8-.78.8-2.07 0-2.86zM5.41 20L4 18.59l7.72-7.72 1.47 1.35L5.41 20z\"/>\n",
              "  </svg>\n",
              "      </button>\n",
              "      \n",
              "  <style>\n",
              "    .colab-df-container {\n",
              "      display:flex;\n",
              "      flex-wrap:wrap;\n",
              "      gap: 12px;\n",
              "    }\n",
              "\n",
              "    .colab-df-convert {\n",
              "      background-color: #E8F0FE;\n",
              "      border: none;\n",
              "      border-radius: 50%;\n",
              "      cursor: pointer;\n",
              "      display: none;\n",
              "      fill: #1967D2;\n",
              "      height: 32px;\n",
              "      padding: 0 0 0 0;\n",
              "      width: 32px;\n",
              "    }\n",
              "\n",
              "    .colab-df-convert:hover {\n",
              "      background-color: #E2EBFA;\n",
              "      box-shadow: 0px 1px 2px rgba(60, 64, 67, 0.3), 0px 1px 3px 1px rgba(60, 64, 67, 0.15);\n",
              "      fill: #174EA6;\n",
              "    }\n",
              "\n",
              "    [theme=dark] .colab-df-convert {\n",
              "      background-color: #3B4455;\n",
              "      fill: #D2E3FC;\n",
              "    }\n",
              "\n",
              "    [theme=dark] .colab-df-convert:hover {\n",
              "      background-color: #434B5C;\n",
              "      box-shadow: 0px 1px 3px 1px rgba(0, 0, 0, 0.15);\n",
              "      filter: drop-shadow(0px 1px 2px rgba(0, 0, 0, 0.3));\n",
              "      fill: #FFFFFF;\n",
              "    }\n",
              "  </style>\n",
              "\n",
              "      <script>\n",
              "        const buttonEl =\n",
              "          document.querySelector('#df-8f71ff8a-de07-4578-a756-77b78a5d5e71 button.colab-df-convert');\n",
              "        buttonEl.style.display =\n",
              "          google.colab.kernel.accessAllowed ? 'block' : 'none';\n",
              "\n",
              "        async function convertToInteractive(key) {\n",
              "          const element = document.querySelector('#df-8f71ff8a-de07-4578-a756-77b78a5d5e71');\n",
              "          const dataTable =\n",
              "            await google.colab.kernel.invokeFunction('convertToInteractive',\n",
              "                                                     [key], {});\n",
              "          if (!dataTable) return;\n",
              "\n",
              "          const docLinkHtml = 'Like what you see? Visit the ' +\n",
              "            '<a target=\"_blank\" href=https://colab.research.google.com/notebooks/data_table.ipynb>data table notebook</a>'\n",
              "            + ' to learn more about interactive tables.';\n",
              "          element.innerHTML = '';\n",
              "          dataTable['output_type'] = 'display_data';\n",
              "          await google.colab.output.renderOutput(dataTable, element);\n",
              "          const docLink = document.createElement('div');\n",
              "          docLink.innerHTML = docLinkHtml;\n",
              "          element.appendChild(docLink);\n",
              "        }\n",
              "      </script>\n",
              "    </div>\n",
              "  </div>\n",
              "  "
            ]
          },
          "metadata": {},
          "execution_count": 4
        }
      ]
    },
    {
      "cell_type": "code",
      "source": [
        "from matplotlib import pyplot as plt\n",
        "import japanize_matplotlib\n",
        "\n",
        "\n",
        "print('プレー時間の平均値は',df['プレー時間'].mean())\n",
        "print('プレー時間の中央値は',df['プレー時間'].median())\n",
        "\n",
        "plt.hist(df['プレー時間'],range=(df['プレー時間'].min(),df['プレー時間'].max()),bins=25)\n",
        "plt.xlabel('プレー時間', fontsize=15)\n",
        "plt.ylabel(\"人数\", fontsize=15)\n",
        "plt.show()\n"
      ],
      "metadata": {
        "colab": {
          "base_uri": "https://localhost:8080/",
          "height": 318
        },
        "id": "6Fj6cm1UeP6W",
        "outputId": "6738448d-ad5a-4fb3-9eb7-c4a05e3516ec"
      },
      "execution_count": 22,
      "outputs": [
        {
          "output_type": "stream",
          "name": "stdout",
          "text": [
            "プレー時間の平均値は 290.4\n",
            "プレー時間の中央値は 225.0\n"
          ]
        },
        {
          "output_type": "display_data",
          "data": {
            "text/plain": [
              "<Figure size 432x288 with 1 Axes>"
            ],
            "image/png": "[encoded data removed]"
          },
          "metadata": {
            "needs_background": "light"
          }
        }
      ]
    },
    {
      "cell_type": "markdown",
      "source": [
        "プレー時間について調査しました。プレー時間の平均と中央値はほとんど差がなく最初は山なりのヒストグラフができると思っていましたが、中央値付近の人数が一番少ない部類に入っており中央値から離れているほうが人数が多かったです。なので、平均と中央値が分かっても分布までは予想することしかできないと改めて感じました。"
      ],
      "metadata": {
        "id": "wRMrYcC4_dgC"
      }
    },
    {
      "cell_type": "code",
      "source": [
        "from matplotlib import pyplot as plt\n",
        "import japanize_matplotlib\n",
        "\n",
        "plt.scatter(df['年齢'],df['プレー時間'])\n",
        "plt.xlabel('年齢', fontsize=15)\n",
        "plt.ylabel(\"プレー時間\", fontsize=15)\n",
        "plt.show()\n",
        "\n",
        "plt.scatter(df['身長'],df['体重'])\n",
        "plt.xlabel('身長', fontsize=15)\n",
        "plt.ylabel(\"体重\", fontsize=15)\n",
        "plt.show()\n",
        "\n",
        "plt.scatter(df['出場数'],df['プレー時間'])\n",
        "plt.xlabel('出場数', fontsize=15)\n",
        "plt.ylabel(\"プレー時間\", fontsize=15)\n",
        "plt.show()"
      ],
      "metadata": {
        "colab": {
          "base_uri": "https://localhost:8080/",
          "height": 812
        },
        "id": "oS1ALaO9eP9y",
        "outputId": "a7c6f0cc-1121-4b34-fc6e-3c7dad659e2d"
      },
      "execution_count": 15,
      "outputs": [
        {
          "output_type": "display_data",
          "data": {
            "text/plain": [
              "<Figure size 432x288 with 1 Axes>"
            ],
            "image/png": "[encoded data removed]"
          },
          "metadata": {
            "needs_background": "light"
          }
        },
        {
          "output_type": "display_data",
          "data": {
            "text/plain": [
              "<Figure size 432x288 with 1 Axes>"
            ],
            "image/png": "[encoded data removed]"
          },
          "metadata": {
            "needs_background": "light"
          }
        },
        {
          "output_type": "display_data",
          "data": {
            "text/plain": [
              "<Figure size 432x288 with 1 Axes>"
            ],
            "image/png": "[encoded data removed]"
          },
          "metadata": {
            "needs_background": "light"
          }
        }
      ]
    },
    {
      "cell_type": "markdown",
      "source": [
        "上から年齢とプレー時間,身長と体重,出場数とプレー時間の相関関係について調査しました。また上から1,2,3のグラフとします。相関関係がみられたのは2と3ですがそこまで強い相関はありませんでした。特に身長と体重は、確かにデータが少ないので大きな相関は見られないと思っていましたが、サッカー選手でワールドカップに出るような人たちのみのデータなので強い相関がみられると思っていました。実際は身長と体重はそこまで大きな影響はないと気づきました。また、プレー時間と年齢はほぼ相関がみられなかったので、フランスの監督は年齢にかかわらず選手を出場させているのだと思いました。"
      ],
      "metadata": {
        "id": "EqxvSxvwBb8f"
      }
    },
    {
      "cell_type": "code",
      "source": [],
      "metadata": {
        "id": "zLcAyzes1Pm7"
      },
      "execution_count": 6,
      "outputs": []
    },
    {
      "cell_type": "code",
      "source": [],
      "metadata": {
        "id": "vEUmZhR21Pje"
      },
      "execution_count": 6,
      "outputs": []
    },
    {
      "cell_type": "code",
      "source": [],
      "metadata": {
        "id": "BpRMYFqo1Pfo"
      },
      "execution_count": 6,
      "outputs": []
    }
  ]
}