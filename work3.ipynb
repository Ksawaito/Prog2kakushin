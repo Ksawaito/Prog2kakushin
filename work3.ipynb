{
  "nbformat": 4,
  "nbformat_minor": 0,
  "metadata": {
    "colab": {
      "provenance": [],
      "authorship_tag": "ABX9TyM367ru595pIgEc7+jWjS+7",
      "include_colab_link": true
    },
    "kernelspec": {
      "name": "python3",
      "display_name": "Python 3"
    },
    "language_info": {
      "name": "python"
    }
  },
  "cells": [
    {
      "cell_type": "markdown",
      "metadata": {
        "id": "view-in-github",
        "colab_type": "text"
      },
      "source": [
        "<a href=\"https://colab.research.google.com/github/Ksawaito/Prog2kakushin/blob/main/work3.ipynb\" target=\"_parent\"><img src=\"https://colab.research.google.com/assets/colab-badge.svg\" alt=\"Open In Colab\"/></a>"
      ]
    },
    {
      "cell_type": "markdown",
      "source": [
        "単色で絵を描く"
      ],
      "metadata": {
        "id": "EhmNYNjtOa3r"
      }
    },
    {
      "cell_type": "code",
      "source": [
        "# Code 1\n",
        "import numpy as np\n",
        "import sys ,cv2 ,glob\n",
        "from google.colab.patches import cv2_imshow\n",
        "\n",
        "black = np.zeros((30,30), np.uint8) # 画像を新規作成（高さ30，幅30）\n",
        "cv2.imwrite('black.png', black) # 画像 black をファイルに保存(以下同様)\n",
        "cv2_imshow(black)\n",
        "\n",
        "red = np.full((30, 30, 3), (0, 0, 255))\n",
        "cv2.imwrite('red.png', red)\n",
        "cv2_imshow(red)\n",
        "\n",
        "lime = np.full((30, 30, 3), (0, 255, 0))\n",
        "cv2.imwrite('lime.png', lime)\n",
        "cv2_imshow(lime)\n",
        "\n",
        "green = np.full((30, 30, 3), (51, 204, 51))\n",
        "cv2.imwrite('green.png', green)\n",
        "cv2_imshow(green)\n",
        "\n",
        "blue = np.full((30, 30, 3), (255, 0, 0))\n",
        "cv2.imwrite('blue.png', blue)\n",
        "cv2_imshow(blue)\n",
        "\n",
        "silver = np.full((30, 30, 3), (153, 153, 153))\n",
        "cv2.imwrite('silver.png', silver)\n",
        "cv2_imshow(silver)\n",
        "\n",
        "nezumiiro = np.full((30, 30, 3), (102, 102, 102))\n",
        "cv2.imwrite('nezumiiro.png', nezumiiro)\n",
        "cv2_imshow(nezumiiro)\n",
        "\n",
        "purple = np.full((30, 30, 3), (255, 0, 102))\n",
        "cv2.imwrite('purple.png', purple)\n",
        "cv2_imshow(purple)\n",
        "\n",
        "sumire = np.full((30, 30, 3), (255, 153, 153))\n",
        "cv2.imwrite('sumire.png', sumire)\n",
        "cv2_imshow(sumire)\n",
        "\n",
        "blown = np.full((30, 30, 3), (0, 128, 130))\n",
        "cv2.imwrite('blown.png', blown)\n",
        "cv2_imshow(blown)\n",
        "\n",
        "hadairo = np.full((30, 30, 3), (96, 164, 244))\n",
        "cv2.imwrite('hadairo.png', hadairo)\n",
        "cv2_imshow(hadairo)\n",
        "\n",
        "white = np.full((30, 30, 3), (255, 255, 255))\n",
        "cv2.imwrite('white.png', white)\n",
        "cv2_imshow(white)"
      ],
      "metadata": {
        "colab": {
          "base_uri": "https://localhost:8080/",
          "height": 377
        },
        "id": "PEIN8vxskBvN",
        "outputId": "1b2c7482-8d64-4f26-c4a1-f08bdbdab4e8"
      },
      "execution_count": 19,
      "outputs": [
        {
          "output_type": "display_data",
          "data": {
            "text/plain": [
              "<PIL.Image.Image image mode=L size=30x30 at 0x7F7288FB57C0>"
            ],
            "image/png": "[encoded data removed]"
          },
          "metadata": {}
        },
        {
          "output_type": "display_data",
          "data": {
            "text/plain": [
              "<PIL.Image.Image image mode=RGB size=30x30 at 0x7F7288FFF460>"
            ],
            "image/png": "[encoded data removed]"
          },
          "metadata": {}
        },
        {
          "output_type": "display_data",
          "data": {
            "text/plain": [
              "<PIL.Image.Image image mode=RGB size=30x30 at 0x7F7288FFF2E0>"
            ],
            "image/png": "[encoded data removed]"
          },
          "metadata": {}
        },
        {
          "output_type": "display_data",
          "data": {
            "text/plain": [
              "<PIL.Image.Image image mode=RGB size=30x30 at 0x7F7288FFF190>"
            ],
            "image/png": "[encoded data removed]"
          },
          "metadata": {}
        },
        {
          "output_type": "display_data",
          "data": {
            "text/plain": [
              "<PIL.Image.Image image mode=RGB size=30x30 at 0x7F7288FFF280>"
            ],
            "image/png": "[encoded data removed]"
          },
          "metadata": {}
        },
        {
          "output_type": "display_data",
          "data": {
            "text/plain": [
              "<PIL.Image.Image image mode=RGB size=30x30 at 0x7F7288FFF3A0>"
            ],
            "image/png": "[encoded data removed]"
          },
          "metadata": {}
        },
        {
          "output_type": "display_data",
          "data": {
            "text/plain": [
              "<PIL.Image.Image image mode=RGB size=30x30 at 0x7F7288FFF760>"
            ],
            "image/png": "[encoded data removed]"
          },
          "metadata": {}
        },
        {
          "output_type": "display_data",
          "data": {
            "text/plain": [
              "<PIL.Image.Image image mode=RGB size=30x30 at 0x7F7288FFFB50>"
            ],
            "image/png": "[encoded data removed]"
          },
          "metadata": {}
        },
        {
          "output_type": "display_data",
          "data": {
            "text/plain": [
              "<PIL.Image.Image image mode=RGB size=30x30 at 0x7F7288FFFDF0>"
            ],
            "image/png": "[encoded data removed]"
          },
          "metadata": {}
        },
        {
          "output_type": "display_data",
          "data": {
            "text/plain": [
              "<PIL.Image.Image image mode=RGB size=30x30 at 0x7F7288FFF040>"
            ],
            "image/png": "[encoded data removed]"
          },
          "metadata": {}
        },
        {
          "output_type": "display_data",
          "data": {
            "text/plain": [
              "<PIL.Image.Image image mode=RGB size=30x30 at 0x7F7288FFFFD0>"
            ],
            "image/png": "[encoded data removed]"
          },
          "metadata": {}
        },
        {
          "output_type": "display_data",
          "data": {
            "text/plain": [
              "<PIL.Image.Image image mode=RGB size=30x30 at 0x7F7288FFFBE0>"
            ],
            "image/png": "[encoded data removed]"
          },
          "metadata": {}
        }
      ]
    },
    {
      "cell_type": "code",
      "source": [
        "h = 30  # １ドットの縦の高さ\n",
        "w = 30  # １ドットの横の長さ\n",
        "\n",
        "img4=np.zeros((8*h,8*w,3),np.uint8)  # 画像を貼り付けるための背景（黒） \n",
        "\n",
        "g = 'green.png'  \n",
        "b = 'black.png'\n",
        "file = [g,g,g,g,g,g,g,g,  # ここでドット絵の打ち込みをする（改行がここでされているわけではない）\n",
        "        g,g,g,g,g,g,g,g,\n",
        "        g,b,b,g,g,b,b,g,\n",
        "        g,b,b,g,g,b,b,g,\n",
        "        g,g,g,b,b,g,g,g,\n",
        "        g,g,b,b,b,b,g,g,\n",
        "        g,g,b,b,b,b,g,g,\n",
        "        g,g,b,g,g,b,g,g]\n",
        "\n",
        "\n",
        "i = -1  # ０～６３のカウントをするため\n",
        "\n",
        "for x in range(8):  # 行数 \n",
        "  for y in range(8):  # 列数（8文字で改行）\n",
        "      i += 1  \n",
        "      img = cv2.imread(file[i])\n",
        "      if img is None:  # エラー時用\n",
        "        sys.exit(f'エラー：ファイルを開けませんでした{file}')\n",
        "      img2 =cv2.resize(img,(h,w))  # サイズ変更\n",
        "      img4[h*x:h*(x+1),w*y:w*(y+1)] = img2  # 背景に貼り付け\n",
        "cv2_imshow(img4)\n",
        "\n",
        "print('クリーパー')"
      ],
      "metadata": {
        "colab": {
          "base_uri": "https://localhost:8080/",
          "height": 275
        },
        "id": "fNEeuSIxx8bO",
        "outputId": "a6d083b6-77ef-477c-e1e8-43d9803bde03"
      },
      "execution_count": 37,
      "outputs": [
        {
          "output_type": "display_data",
          "data": {
            "text/plain": [
              "<PIL.Image.Image image mode=RGB size=240x240 at 0x7F7288FFFCD0>"
            ],
            "image/png": "[encoded data removed]"
          },
          "metadata": {}
        },
        {
          "output_type": "stream",
          "name": "stdout",
          "text": [
            "クリーパー\n"
          ]
        }
      ]
    },
    {
      "cell_type": "code",
      "source": [
        "img4=np.zeros((8*30,8*30,3),np.uint8)\n",
        "\n",
        "p = 'purple.png'\n",
        "s = 'sumire.png'\n",
        "b = 'black.png'\n",
        "file = [b,b,b,b,b,b,b,b,\n",
        "        b,b,b,b,b,b,b,b,\n",
        "        b,b,b,b,b,b,b,b,\n",
        "        b,b,b,b,b,b,b,b,\n",
        "        s,p,s,b,b,s,p,s,\n",
        "        b,b,b,b,b,b,b,b,\n",
        "        b,b,b,b,b,b,b,b,\n",
        "        b,b,b,b,b,b,b,b,]\n",
        "\n",
        "i = -1\n",
        "\n",
        "for x in range(8):\n",
        "  for y in range(8):\n",
        "      i += 1\n",
        "      img = cv2.imread(file[i])\n",
        "      if img is None:\n",
        "        sys.exit(f'エラー：ファイルを開けませんでした{file}')\n",
        "      img2 =cv2.resize(img,(30,30))\n",
        "      img4[30*x:30*(x+1),30*y:30*(y+1)] = img2\n",
        "cv2_imshow(img4)\n",
        "\n",
        "print('エンダーマン')"
      ],
      "metadata": {
        "colab": {
          "base_uri": "https://localhost:8080/",
          "height": 275
        },
        "id": "WVpx-b3VH8_A",
        "outputId": "b2e12485-82c9-4249-8acc-d31a206791c7"
      },
      "execution_count": 21,
      "outputs": [
        {
          "output_type": "display_data",
          "data": {
            "text/plain": [
              "<PIL.Image.Image image mode=RGB size=240x240 at 0x7F7288FFAAF0>"
            ],
            "image/png": "[encoded data removed]"
          },
          "metadata": {}
        },
        {
          "output_type": "stream",
          "name": "stdout",
          "text": [
            "エンダーマン\n"
          ]
        }
      ]
    },
    {
      "cell_type": "code",
      "source": [
        "img4=np.zeros((8*30,8*30,3),np.uint8)\n",
        "\n",
        "s = 'silver.png'\n",
        "n = 'nezumiiro.png'\n",
        "b = 'black.png'\n",
        "file = [s,s,s,s,s,s,s,s,\n",
        "        s,s,s,s,s,s,s,s,\n",
        "        s,s,s,s,s,s,s,s,\n",
        "        s,s,s,s,s,s,s,s,\n",
        "        s,b,b,s,s,b,b,s,\n",
        "        s,s,s,n,n,s,s,s,\n",
        "        s,b,b,b,b,b,b,s,\n",
        "        s,s,s,s,s,s,s,s]\n",
        "\n",
        "i = -1\n",
        "\n",
        "for x in range(8):\n",
        "  for y in range(8):\n",
        "      i += 1\n",
        "      img = cv2.imread(file[i])\n",
        "      if img is None:\n",
        "        sys.exit(f'エラー：ファイルを開けませんでした{file}')\n",
        "      img2 =cv2.resize(img,(30,30))\n",
        "      img4[30*x:30*(x+1),30*y:30*(y+1)] = img2\n",
        "cv2_imshow(img4)\n",
        "\n",
        "print('スケルトン')"
      ],
      "metadata": {
        "colab": {
          "base_uri": "https://localhost:8080/",
          "height": 275
        },
        "id": "xjOseZE8JoUx",
        "outputId": "c475c7cb-9700-46d9-cca0-0bcf23dd8059"
      },
      "execution_count": 22,
      "outputs": [
        {
          "output_type": "display_data",
          "data": {
            "text/plain": [
              "<PIL.Image.Image image mode=RGB size=240x240 at 0x7F7288FFAA90>"
            ],
            "image/png": "[encoded data removed]"
          },
          "metadata": {}
        },
        {
          "output_type": "stream",
          "name": "stdout",
          "text": [
            "スケルトン\n"
          ]
        }
      ]
    },
    {
      "cell_type": "code",
      "source": [
        "img4=np.zeros((16*30,12*30,3),np.uint8)\n",
        "w = 'white.png'\n",
        "b = 'blown.png'\n",
        "h = 'hadairo.png'\n",
        "r = 'red.png'\n",
        "file = [w,w,w,r,r,r,r,r,w,w,w,w,\n",
        "        w,w,r,r,r,r,r,r,r,r,r,w,\n",
        "        w,w,b,b,b,h,h,b,h,w,w,w,\n",
        "        w,b,h,b,h,h,h,b,h,h,h,w,\n",
        "        w,b,h,b,b,h,h,h,b,h,h,h,\n",
        "        w,b,b,h,h,h,h,b,b,b,b,w,\n",
        "        w,w,w,h,h,h,h,h,h,h,w,w,\n",
        "        w,w,b,b,r,b,b,b,w,w,w,w,\n",
        "        w,b,b,b,r,b,b,r,b,b,b,w,\n",
        "        b,b,b,b,r,r,r,r,b,b,b,b,\n",
        "        h,h,b,r,h,r,r,h,r,b,h,h,\n",
        "        h,h,h,r,r,r,r,r,r,h,h,h,\n",
        "        h,h,r,r,r,r,r,r,r,r,h,h,\n",
        "        w,w,r,r,r,w,w,r,r,r,w,w,\n",
        "        w,b,b,b,w,w,w,w,b,b,b,w,\n",
        "        b,b,b,b,w,w,w,w,b,b,b,b]\n",
        "\n",
        "i = -1\n",
        "\n",
        "for x in range(16):\n",
        "  for y in range(12):\n",
        "      i += 1\n",
        "      img = cv2.imread(file[i])\n",
        "      if img is None:\n",
        "        sys.exit(f'エラー：ファイルを開けませんでした{file}')\n",
        "      img2 =cv2.resize(img,(30,30))\n",
        "      img4[30*x:30*(x+1),30*y:30*(y+1)] = img2\n",
        "cv2_imshow(img4)\n",
        "\n",
        "print('マリオ')"
      ],
      "metadata": {
        "colab": {
          "base_uri": "https://localhost:8080/",
          "height": 515
        },
        "id": "BXAGjMXILfIK",
        "outputId": "2ff6bccb-0d14-470c-8505-8a4f911eaf66"
      },
      "execution_count": 23,
      "outputs": [
        {
          "output_type": "display_data",
          "data": {
            "text/plain": [
              "<PIL.Image.Image image mode=RGB size=360x480 at 0x7F7288FCE8E0>"
            ],
            "image/png": "[encoded data removed]"
          },
          "metadata": {}
        },
        {
          "output_type": "stream",
          "name": "stdout",
          "text": [
            "マリオ\n"
          ]
        }
      ]
    },
    {
      "cell_type": "code",
      "source": [
        "img4=np.zeros((9*30,8*30,3),np.uint8)\n",
        "file = 'white.png','black.png'\n",
        "\n",
        "for x in range(9):\n",
        "  for y in range(8):\n",
        "      img = cv2.imread(file[x%2])\n",
        "      if img is None:\n",
        "        sys.exit(f'エラー：ファイルを開けませんでした{file}')\n",
        "      img2 =cv2.resize(img,(30,30))\n",
        "      img4[30*x:30*(x+1),30*y:30*(y+1)] = img2\n",
        "cv2_imshow(img4)\n",
        "\n",
        "print('シマウマクローズアップ')"
      ],
      "metadata": {
        "colab": {
          "base_uri": "https://localhost:8080/",
          "height": 305
        },
        "id": "Jk8KCtztAnI-",
        "outputId": "c5af4eb5-b416-410d-8dea-de5ad59285c0"
      },
      "execution_count": 26,
      "outputs": [
        {
          "output_type": "display_data",
          "data": {
            "text/plain": [
              "<PIL.Image.Image image mode=RGB size=240x270 at 0x7F7288FCE160>"
            ],
            "image/png": "[encoded data removed]"
          },
          "metadata": {}
        },
        {
          "output_type": "stream",
          "name": "stdout",
          "text": [
            "シマウマクローズアップ\n"
          ]
        }
      ]
    }
  ]
}